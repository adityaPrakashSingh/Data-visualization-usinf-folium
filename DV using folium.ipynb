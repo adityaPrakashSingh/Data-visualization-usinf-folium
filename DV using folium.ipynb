{
 "cells": [
  {
   "cell_type": "code",
   "execution_count": 57,
   "metadata": {},
   "outputs": [
    {
     "name": "stdout",
     "output_type": "stream",
     "text": [
      "Populating the interactive namespace from numpy and matplotlib\n"
     ]
    },
    {
     "name": "stderr",
     "output_type": "stream",
     "text": [
      "C:\\Users\\sbwad\\anaconda3\\lib\\site-packages\\IPython\\core\\magics\\pylab.py:160: UserWarning: pylab import has clobbered these variables: ['select']\n",
      "`%matplotlib` prevents importing * from pylab and numpy\n",
      "  \"\\n`%matplotlib` prevents importing * from pylab and numpy\"\n"
     ]
    }
   ],
   "source": [
    "%pylab inline\n",
    "import pandas as pd\n",
    "import numpy as np"
   ]
  },
  {
   "cell_type": "markdown",
   "metadata": {},
   "source": [
    "# Loading csv file"
   ]
  },
  {
   "cell_type": "code",
   "execution_count": 58,
   "metadata": {},
   "outputs": [],
   "source": [
    "data = pd.read_csv(r\"C:\\Users\\sbwad\\Desktop\\project\\Uber-dataset\\Uber-dataset\\apr\\aa.csv\" , engine = 'python')"
   ]
  },
  {
   "cell_type": "code",
   "execution_count": 59,
   "metadata": {},
   "outputs": [
    {
     "data": {
      "text/html": [
       "<div>\n",
       "<style scoped>\n",
       "    .dataframe tbody tr th:only-of-type {\n",
       "        vertical-align: middle;\n",
       "    }\n",
       "\n",
       "    .dataframe tbody tr th {\n",
       "        vertical-align: top;\n",
       "    }\n",
       "\n",
       "    .dataframe thead th {\n",
       "        text-align: right;\n",
       "    }\n",
       "</style>\n",
       "<table border=\"1\" class=\"dataframe\">\n",
       "  <thead>\n",
       "    <tr style=\"text-align: right;\">\n",
       "      <th></th>\n",
       "      <th>Date/Time</th>\n",
       "      <th>Lat</th>\n",
       "      <th>Lon</th>\n",
       "      <th>Base</th>\n",
       "    </tr>\n",
       "  </thead>\n",
       "  <tbody>\n",
       "    <tr>\n",
       "      <th>0</th>\n",
       "      <td>4/1/2014 0:11:00</td>\n",
       "      <td>40.7690</td>\n",
       "      <td>-73.9549</td>\n",
       "      <td>B02512</td>\n",
       "    </tr>\n",
       "    <tr>\n",
       "      <th>1</th>\n",
       "      <td>4/1/2014 0:17:00</td>\n",
       "      <td>40.7267</td>\n",
       "      <td>-74.0345</td>\n",
       "      <td>B02512</td>\n",
       "    </tr>\n",
       "    <tr>\n",
       "      <th>2</th>\n",
       "      <td>4/1/2014 0:21:00</td>\n",
       "      <td>40.7316</td>\n",
       "      <td>-73.9873</td>\n",
       "      <td>B02512</td>\n",
       "    </tr>\n",
       "    <tr>\n",
       "      <th>3</th>\n",
       "      <td>4/1/2014 0:28:00</td>\n",
       "      <td>40.7588</td>\n",
       "      <td>-73.9776</td>\n",
       "      <td>B02512</td>\n",
       "    </tr>\n",
       "    <tr>\n",
       "      <th>4</th>\n",
       "      <td>4/1/2014 0:33:00</td>\n",
       "      <td>40.7594</td>\n",
       "      <td>-73.9722</td>\n",
       "      <td>B02512</td>\n",
       "    </tr>\n",
       "  </tbody>\n",
       "</table>\n",
       "</div>"
      ],
      "text/plain": [
       "          Date/Time      Lat      Lon    Base\n",
       "0  4/1/2014 0:11:00  40.7690 -73.9549  B02512\n",
       "1  4/1/2014 0:17:00  40.7267 -74.0345  B02512\n",
       "2  4/1/2014 0:21:00  40.7316 -73.9873  B02512\n",
       "3  4/1/2014 0:28:00  40.7588 -73.9776  B02512\n",
       "4  4/1/2014 0:33:00  40.7594 -73.9722  B02512"
      ]
     },
     "execution_count": 59,
     "metadata": {},
     "output_type": "execute_result"
    }
   ],
   "source": [
    "data.head()"
   ]
  },
  {
   "cell_type": "markdown",
   "metadata": {},
   "source": [
    "# Converting Date/Time format into simpler format\n",
    "### Reason for converting Date/Time format is that *Pandas* can easily understand and operate on Date/Time column\n"
   ]
  },
  {
   "cell_type": "code",
   "execution_count": 60,
   "metadata": {},
   "outputs": [],
   "source": [
    "data['Date/Time'] = pd.to_datetime(data['Date/Time'])"
   ]
  },
  {
   "cell_type": "code",
   "execution_count": 61,
   "metadata": {},
   "outputs": [
    {
     "data": {
      "text/html": [
       "<div>\n",
       "<style scoped>\n",
       "    .dataframe tbody tr th:only-of-type {\n",
       "        vertical-align: middle;\n",
       "    }\n",
       "\n",
       "    .dataframe tbody tr th {\n",
       "        vertical-align: top;\n",
       "    }\n",
       "\n",
       "    .dataframe thead th {\n",
       "        text-align: right;\n",
       "    }\n",
       "</style>\n",
       "<table border=\"1\" class=\"dataframe\">\n",
       "  <thead>\n",
       "    <tr style=\"text-align: right;\">\n",
       "      <th></th>\n",
       "      <th>Date/Time</th>\n",
       "      <th>Lat</th>\n",
       "      <th>Lon</th>\n",
       "      <th>Base</th>\n",
       "    </tr>\n",
       "  </thead>\n",
       "  <tbody>\n",
       "    <tr>\n",
       "      <th>0</th>\n",
       "      <td>2014-04-01 00:11:00</td>\n",
       "      <td>40.7690</td>\n",
       "      <td>-73.9549</td>\n",
       "      <td>B02512</td>\n",
       "    </tr>\n",
       "    <tr>\n",
       "      <th>1</th>\n",
       "      <td>2014-04-01 00:17:00</td>\n",
       "      <td>40.7267</td>\n",
       "      <td>-74.0345</td>\n",
       "      <td>B02512</td>\n",
       "    </tr>\n",
       "    <tr>\n",
       "      <th>2</th>\n",
       "      <td>2014-04-01 00:21:00</td>\n",
       "      <td>40.7316</td>\n",
       "      <td>-73.9873</td>\n",
       "      <td>B02512</td>\n",
       "    </tr>\n",
       "    <tr>\n",
       "      <th>3</th>\n",
       "      <td>2014-04-01 00:28:00</td>\n",
       "      <td>40.7588</td>\n",
       "      <td>-73.9776</td>\n",
       "      <td>B02512</td>\n",
       "    </tr>\n",
       "    <tr>\n",
       "      <th>4</th>\n",
       "      <td>2014-04-01 00:33:00</td>\n",
       "      <td>40.7594</td>\n",
       "      <td>-73.9722</td>\n",
       "      <td>B02512</td>\n",
       "    </tr>\n",
       "  </tbody>\n",
       "</table>\n",
       "</div>"
      ],
      "text/plain": [
       "            Date/Time      Lat      Lon    Base\n",
       "0 2014-04-01 00:11:00  40.7690 -73.9549  B02512\n",
       "1 2014-04-01 00:17:00  40.7267 -74.0345  B02512\n",
       "2 2014-04-01 00:21:00  40.7316 -73.9873  B02512\n",
       "3 2014-04-01 00:28:00  40.7588 -73.9776  B02512\n",
       "4 2014-04-01 00:33:00  40.7594 -73.9722  B02512"
      ]
     },
     "execution_count": 61,
     "metadata": {},
     "output_type": "execute_result"
    }
   ],
   "source": [
    "data.head()"
   ]
  },
  {
   "cell_type": "code",
   "execution_count": 62,
   "metadata": {},
   "outputs": [
    {
     "data": {
      "text/plain": [
       "'Tuesday'"
      ]
     },
     "execution_count": 62,
     "metadata": {},
     "output_type": "execute_result"
    }
   ],
   "source": [
    "data.loc[0 , 'Date/Time'].day_name()    ##function used to check weekday of a given date"
   ]
  },
  {
   "cell_type": "markdown",
   "metadata": {},
   "source": [
    "# Adding more informative columns to the dataset"
   ]
  },
  {
   "cell_type": "code",
   "execution_count": 63,
   "metadata": {},
   "outputs": [],
   "source": [
    "data['DoW'] = data['Date/Time'].dt.day_name()   ##'dt' class allows us to get weekday of large series or dataset"
   ]
  },
  {
   "cell_type": "code",
   "execution_count": 64,
   "metadata": {},
   "outputs": [
    {
     "data": {
      "text/html": [
       "<div>\n",
       "<style scoped>\n",
       "    .dataframe tbody tr th:only-of-type {\n",
       "        vertical-align: middle;\n",
       "    }\n",
       "\n",
       "    .dataframe tbody tr th {\n",
       "        vertical-align: top;\n",
       "    }\n",
       "\n",
       "    .dataframe thead th {\n",
       "        text-align: right;\n",
       "    }\n",
       "</style>\n",
       "<table border=\"1\" class=\"dataframe\">\n",
       "  <thead>\n",
       "    <tr style=\"text-align: right;\">\n",
       "      <th></th>\n",
       "      <th>Date/Time</th>\n",
       "      <th>Lat</th>\n",
       "      <th>Lon</th>\n",
       "      <th>Base</th>\n",
       "      <th>DoW</th>\n",
       "    </tr>\n",
       "  </thead>\n",
       "  <tbody>\n",
       "    <tr>\n",
       "      <th>0</th>\n",
       "      <td>2014-04-01 00:11:00</td>\n",
       "      <td>40.7690</td>\n",
       "      <td>-73.9549</td>\n",
       "      <td>B02512</td>\n",
       "      <td>Tuesday</td>\n",
       "    </tr>\n",
       "    <tr>\n",
       "      <th>1</th>\n",
       "      <td>2014-04-01 00:17:00</td>\n",
       "      <td>40.7267</td>\n",
       "      <td>-74.0345</td>\n",
       "      <td>B02512</td>\n",
       "      <td>Tuesday</td>\n",
       "    </tr>\n",
       "    <tr>\n",
       "      <th>2</th>\n",
       "      <td>2014-04-01 00:21:00</td>\n",
       "      <td>40.7316</td>\n",
       "      <td>-73.9873</td>\n",
       "      <td>B02512</td>\n",
       "      <td>Tuesday</td>\n",
       "    </tr>\n",
       "    <tr>\n",
       "      <th>3</th>\n",
       "      <td>2014-04-01 00:28:00</td>\n",
       "      <td>40.7588</td>\n",
       "      <td>-73.9776</td>\n",
       "      <td>B02512</td>\n",
       "      <td>Tuesday</td>\n",
       "    </tr>\n",
       "    <tr>\n",
       "      <th>4</th>\n",
       "      <td>2014-04-01 00:33:00</td>\n",
       "      <td>40.7594</td>\n",
       "      <td>-73.9722</td>\n",
       "      <td>B02512</td>\n",
       "      <td>Tuesday</td>\n",
       "    </tr>\n",
       "  </tbody>\n",
       "</table>\n",
       "</div>"
      ],
      "text/plain": [
       "            Date/Time      Lat      Lon    Base      DoW\n",
       "0 2014-04-01 00:11:00  40.7690 -73.9549  B02512  Tuesday\n",
       "1 2014-04-01 00:17:00  40.7267 -74.0345  B02512  Tuesday\n",
       "2 2014-04-01 00:21:00  40.7316 -73.9873  B02512  Tuesday\n",
       "3 2014-04-01 00:28:00  40.7588 -73.9776  B02512  Tuesday\n",
       "4 2014-04-01 00:33:00  40.7594 -73.9722  B02512  Tuesday"
      ]
     },
     "execution_count": 64,
     "metadata": {},
     "output_type": "execute_result"
    }
   ],
   "source": [
    "data.head()"
   ]
  },
  {
   "cell_type": "code",
   "execution_count": 65,
   "metadata": {},
   "outputs": [],
   "source": [
    "data.set_index('Date/Time' , inplace=True)    ## uses the Date/Time column as index , it makes filtering easier"
   ]
  },
  {
   "cell_type": "code",
   "execution_count": 66,
   "metadata": {},
   "outputs": [
    {
     "data": {
      "text/html": [
       "<div>\n",
       "<style scoped>\n",
       "    .dataframe tbody tr th:only-of-type {\n",
       "        vertical-align: middle;\n",
       "    }\n",
       "\n",
       "    .dataframe tbody tr th {\n",
       "        vertical-align: top;\n",
       "    }\n",
       "\n",
       "    .dataframe thead th {\n",
       "        text-align: right;\n",
       "    }\n",
       "</style>\n",
       "<table border=\"1\" class=\"dataframe\">\n",
       "  <thead>\n",
       "    <tr style=\"text-align: right;\">\n",
       "      <th></th>\n",
       "      <th>Lat</th>\n",
       "      <th>Lon</th>\n",
       "      <th>Base</th>\n",
       "      <th>DoW</th>\n",
       "    </tr>\n",
       "    <tr>\n",
       "      <th>Date/Time</th>\n",
       "      <th></th>\n",
       "      <th></th>\n",
       "      <th></th>\n",
       "      <th></th>\n",
       "    </tr>\n",
       "  </thead>\n",
       "  <tbody>\n",
       "    <tr>\n",
       "      <th>2014-04-01 00:11:00</th>\n",
       "      <td>40.7690</td>\n",
       "      <td>-73.9549</td>\n",
       "      <td>B02512</td>\n",
       "      <td>Tuesday</td>\n",
       "    </tr>\n",
       "    <tr>\n",
       "      <th>2014-04-01 00:17:00</th>\n",
       "      <td>40.7267</td>\n",
       "      <td>-74.0345</td>\n",
       "      <td>B02512</td>\n",
       "      <td>Tuesday</td>\n",
       "    </tr>\n",
       "    <tr>\n",
       "      <th>2014-04-01 00:21:00</th>\n",
       "      <td>40.7316</td>\n",
       "      <td>-73.9873</td>\n",
       "      <td>B02512</td>\n",
       "      <td>Tuesday</td>\n",
       "    </tr>\n",
       "    <tr>\n",
       "      <th>2014-04-01 00:28:00</th>\n",
       "      <td>40.7588</td>\n",
       "      <td>-73.9776</td>\n",
       "      <td>B02512</td>\n",
       "      <td>Tuesday</td>\n",
       "    </tr>\n",
       "    <tr>\n",
       "      <th>2014-04-01 00:33:00</th>\n",
       "      <td>40.7594</td>\n",
       "      <td>-73.9722</td>\n",
       "      <td>B02512</td>\n",
       "      <td>Tuesday</td>\n",
       "    </tr>\n",
       "    <tr>\n",
       "      <th>...</th>\n",
       "      <td>...</td>\n",
       "      <td>...</td>\n",
       "      <td>...</td>\n",
       "      <td>...</td>\n",
       "    </tr>\n",
       "    <tr>\n",
       "      <th>2014-04-07 22:55:00</th>\n",
       "      <td>40.7744</td>\n",
       "      <td>-73.8727</td>\n",
       "      <td>B02764</td>\n",
       "      <td>Monday</td>\n",
       "    </tr>\n",
       "    <tr>\n",
       "      <th>2014-04-07 23:06:00</th>\n",
       "      <td>40.7449</td>\n",
       "      <td>-73.9890</td>\n",
       "      <td>B02764</td>\n",
       "      <td>Monday</td>\n",
       "    </tr>\n",
       "    <tr>\n",
       "      <th>2014-04-07 23:17:00</th>\n",
       "      <td>40.7421</td>\n",
       "      <td>-74.0039</td>\n",
       "      <td>B02764</td>\n",
       "      <td>Monday</td>\n",
       "    </tr>\n",
       "    <tr>\n",
       "      <th>2014-04-07 23:25:00</th>\n",
       "      <td>40.7742</td>\n",
       "      <td>-73.9612</td>\n",
       "      <td>B02764</td>\n",
       "      <td>Monday</td>\n",
       "    </tr>\n",
       "    <tr>\n",
       "      <th>2014-04-07 23:34:00</th>\n",
       "      <td>40.7741</td>\n",
       "      <td>-73.8729</td>\n",
       "      <td>B02764</td>\n",
       "      <td>Monday</td>\n",
       "    </tr>\n",
       "  </tbody>\n",
       "</table>\n",
       "<p>131951 rows × 4 columns</p>\n",
       "</div>"
      ],
      "text/plain": [
       "                         Lat      Lon    Base      DoW\n",
       "Date/Time                                             \n",
       "2014-04-01 00:11:00  40.7690 -73.9549  B02512  Tuesday\n",
       "2014-04-01 00:17:00  40.7267 -74.0345  B02512  Tuesday\n",
       "2014-04-01 00:21:00  40.7316 -73.9873  B02512  Tuesday\n",
       "2014-04-01 00:28:00  40.7588 -73.9776  B02512  Tuesday\n",
       "2014-04-01 00:33:00  40.7594 -73.9722  B02512  Tuesday\n",
       "...                      ...      ...     ...      ...\n",
       "2014-04-07 22:55:00  40.7744 -73.8727  B02764   Monday\n",
       "2014-04-07 23:06:00  40.7449 -73.9890  B02764   Monday\n",
       "2014-04-07 23:17:00  40.7421 -74.0039  B02764   Monday\n",
       "2014-04-07 23:25:00  40.7742 -73.9612  B02764   Monday\n",
       "2014-04-07 23:34:00  40.7741 -73.8729  B02764   Monday\n",
       "\n",
       "[131951 rows x 4 columns]"
      ]
     },
     "execution_count": 66,
     "metadata": {},
     "output_type": "execute_result"
    }
   ],
   "source": [
    "data['2014-04-01':'2014-04-07']              ## 2nd date is inclusive"
   ]
  },
  {
   "cell_type": "markdown",
   "metadata": {},
   "source": [
    "# Using Folium for interactive *Data Visualization*"
   ]
  },
  {
   "cell_type": "code",
   "execution_count": 67,
   "metadata": {},
   "outputs": [],
   "source": [
    "import folium\n",
    "from folium import plugins"
   ]
  },
  {
   "cell_type": "code",
   "execution_count": 68,
   "metadata": {},
   "outputs": [],
   "source": [
    "m = folium.Map(location=[40.7690, -73.9549], zoom_start=6)  ## Basic syntax for using folium to load a base map"
   ]
  },
  {
   "cell_type": "code",
   "execution_count": 69,
   "metadata": {},
   "outputs": [
    {
     "data": {
      "text/html": [
       "<div style=\"width:100%;\"><div style=\"position:relative;width:100%;height:0;padding-bottom:60%;\"><span style=\"color:#565656\">Make this Notebook Trusted to load map: File -> Trust Notebook</span><iframe src=\"about:blank\" style=\"position:absolute;width:100%;height:100%;left:0;top:0;border:none !important;\" data-html=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 onload=\"this.contentDocument.open();this.contentDocument.write(atob(this.getAttribute('data-html')));this.contentDocument.close();\" allowfullscreen webkitallowfullscreen mozallowfullscreen></iframe></div></div>"
      ],
      "text/plain": [
       "<folium.folium.Map at 0x199e31a2508>"
      ]
     },
     "execution_count": 69,
     "metadata": {},
     "output_type": "execute_result"
    }
   ],
   "source": [
    "m"
   ]
  },
  {
   "cell_type": "code",
   "execution_count": 70,
   "metadata": {},
   "outputs": [
    {
     "data": {
      "text/html": [
       "<div>\n",
       "<style scoped>\n",
       "    .dataframe tbody tr th:only-of-type {\n",
       "        vertical-align: middle;\n",
       "    }\n",
       "\n",
       "    .dataframe tbody tr th {\n",
       "        vertical-align: top;\n",
       "    }\n",
       "\n",
       "    .dataframe thead th {\n",
       "        text-align: right;\n",
       "    }\n",
       "</style>\n",
       "<table border=\"1\" class=\"dataframe\">\n",
       "  <thead>\n",
       "    <tr style=\"text-align: right;\">\n",
       "      <th></th>\n",
       "      <th>Lat</th>\n",
       "      <th>Lon</th>\n",
       "      <th>Base</th>\n",
       "      <th>DoW</th>\n",
       "    </tr>\n",
       "    <tr>\n",
       "      <th>Date/Time</th>\n",
       "      <th></th>\n",
       "      <th></th>\n",
       "      <th></th>\n",
       "      <th></th>\n",
       "    </tr>\n",
       "  </thead>\n",
       "  <tbody>\n",
       "    <tr>\n",
       "      <th>2014-04-01 00:11:00</th>\n",
       "      <td>40.7690</td>\n",
       "      <td>-73.9549</td>\n",
       "      <td>B02512</td>\n",
       "      <td>Tuesday</td>\n",
       "    </tr>\n",
       "    <tr>\n",
       "      <th>2014-04-01 00:17:00</th>\n",
       "      <td>40.7267</td>\n",
       "      <td>-74.0345</td>\n",
       "      <td>B02512</td>\n",
       "      <td>Tuesday</td>\n",
       "    </tr>\n",
       "    <tr>\n",
       "      <th>2014-04-01 00:21:00</th>\n",
       "      <td>40.7316</td>\n",
       "      <td>-73.9873</td>\n",
       "      <td>B02512</td>\n",
       "      <td>Tuesday</td>\n",
       "    </tr>\n",
       "    <tr>\n",
       "      <th>2014-04-01 00:28:00</th>\n",
       "      <td>40.7588</td>\n",
       "      <td>-73.9776</td>\n",
       "      <td>B02512</td>\n",
       "      <td>Tuesday</td>\n",
       "    </tr>\n",
       "    <tr>\n",
       "      <th>2014-04-01 00:33:00</th>\n",
       "      <td>40.7594</td>\n",
       "      <td>-73.9722</td>\n",
       "      <td>B02512</td>\n",
       "      <td>Tuesday</td>\n",
       "    </tr>\n",
       "  </tbody>\n",
       "</table>\n",
       "</div>"
      ],
      "text/plain": [
       "                         Lat      Lon    Base      DoW\n",
       "Date/Time                                             \n",
       "2014-04-01 00:11:00  40.7690 -73.9549  B02512  Tuesday\n",
       "2014-04-01 00:17:00  40.7267 -74.0345  B02512  Tuesday\n",
       "2014-04-01 00:21:00  40.7316 -73.9873  B02512  Tuesday\n",
       "2014-04-01 00:28:00  40.7588 -73.9776  B02512  Tuesday\n",
       "2014-04-01 00:33:00  40.7594 -73.9722  B02512  Tuesday"
      ]
     },
     "execution_count": 70,
     "metadata": {},
     "output_type": "execute_result"
    }
   ],
   "source": [
    "df=data[0:20]            ## slicing dataset to take a small part for faster visualization\n",
    "df.head()"
   ]
  },
  {
   "cell_type": "code",
   "execution_count": 73,
   "metadata": {},
   "outputs": [],
   "source": [
    "for (index, row) in df.iterrows():                                                        ## Looping through dataset to plot all the given locations\n",
    "    folium.Marker(location=[row.loc['Lat'], row.loc['Lon']],popup=row.loc['DoW'],\n",
    "                  icon=folium.Icon(color='blue', icon='cab', prefix='fa')).add_to(m)      ## Using 'Font Awesome' to customize icons"
   ]
  },
  {
   "cell_type": "code",
   "execution_count": 74,
   "metadata": {},
   "outputs": [
    {
     "data": {
      "text/html": [
       "<div style=\"width:100%;\"><div style=\"position:relative;width:100%;height:0;padding-bottom:60%;\"><span style=\"color:#565656\">Make this Notebook Trusted to load map: File -> Trust Notebook</span><iframe src=\"about:blank\" style=\"position:absolute;width:100%;height:100%;left:0;top:0;border:none !important;\" data-html=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 onload=\"this.contentDocument.open();this.contentDocument.write(atob(this.getAttribute('data-html')));this.contentDocument.close();\" allowfullscreen webkitallowfullscreen mozallowfullscreen></iframe></div></div>"
      ],
      "text/plain": [
       "<folium.folium.Map at 0x199e31a2508>"
      ]
     },
     "execution_count": 74,
     "metadata": {},
     "output_type": "execute_result"
    }
   ],
   "source": [
    "m"
   ]
  },
  {
   "cell_type": "markdown",
   "metadata": {},
   "source": [
    "# Filtering data \n",
    "### We can filter different weekdays of the month for better comparison"
   ]
  },
  {
   "cell_type": "code",
   "execution_count": 75,
   "metadata": {},
   "outputs": [],
   "source": [
    "filter_sunday = data['DoW'] == 'Sunday'           ## extracting all the data whoes weekday is sunday \n",
    "sun=data.loc[filter_sunday]                       ## and saving these data into a different dataframe   "
   ]
  },
  {
   "cell_type": "code",
   "execution_count": 76,
   "metadata": {},
   "outputs": [],
   "source": [
    "sun[:'2014-04-07']                               ## filtering to get only first week of data for sunday                        \n",
    "sun = sun[:20]                                   ## again slicing it to get only 20 entries for faster visualization"
   ]
  },
  {
   "cell_type": "code",
   "execution_count": 80,
   "metadata": {},
   "outputs": [],
   "source": [
    "m_sun = folium.Map(location=[40.7690, -73.9549], zoom_start=10)"
   ]
  },
  {
   "cell_type": "code",
   "execution_count": 81,
   "metadata": {},
   "outputs": [],
   "source": [
    "for (index, row) in sun.iterrows():                                                 \n",
    "    folium.Marker(location=[row.loc['Lat'], row.loc['Lon']],popup=row.loc['DoW'],\n",
    "                   icon=folium.Icon(color='red', icon='cab', prefix='fa')).add_to(m_sun)\n",
    "    \n",
    "    \n",
    "    \n"
   ]
  },
  {
   "cell_type": "markdown",
   "metadata": {},
   "source": [
    "## Adding measure_control funtion"
   ]
  },
  {
   "cell_type": "code",
   "execution_count": null,
   "metadata": {},
   "outputs": [],
   "source": [
    "measure_control = plugins.MeasureControl(position='topleft', primary_length_unit='meters')\n",
    "m_sun.add_child(measure_control)"
   ]
  },
  {
   "cell_type": "code",
   "execution_count": 82,
   "metadata": {},
   "outputs": [
    {
     "data": {
      "text/html": [
       "<div style=\"width:100%;\"><div style=\"position:relative;width:100%;height:0;padding-bottom:60%;\"><span style=\"color:#565656\">Make this Notebook Trusted to load map: File -> Trust Notebook</span><iframe src=\"about:blank\" style=\"position:absolute;width:100%;height:100%;left:0;top:0;border:none !important;\" data-html=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 onload=\"this.contentDocument.open();this.contentDocument.write(atob(this.getAttribute('data-html')));this.contentDocument.close();\" allowfullscreen webkitallowfullscreen mozallowfullscreen></iframe></div></div>"
      ],
      "text/plain": [
       "<folium.folium.Map at 0x199f46d2608>"
      ]
     },
     "execution_count": 82,
     "metadata": {},
     "output_type": "execute_result"
    }
   ],
   "source": [
    "m_sun"
   ]
  },
  {
   "cell_type": "code",
   "execution_count": 83,
   "metadata": {},
   "outputs": [],
   "source": [
    "filter_monday = data['DoW'] == 'Monday'\n",
    "mon=data.loc[filter_monday]"
   ]
  },
  {
   "cell_type": "code",
   "execution_count": 84,
   "metadata": {},
   "outputs": [
    {
     "data": {
      "text/html": [
       "<div>\n",
       "<style scoped>\n",
       "    .dataframe tbody tr th:only-of-type {\n",
       "        vertical-align: middle;\n",
       "    }\n",
       "\n",
       "    .dataframe tbody tr th {\n",
       "        vertical-align: top;\n",
       "    }\n",
       "\n",
       "    .dataframe thead th {\n",
       "        text-align: right;\n",
       "    }\n",
       "</style>\n",
       "<table border=\"1\" class=\"dataframe\">\n",
       "  <thead>\n",
       "    <tr style=\"text-align: right;\">\n",
       "      <th></th>\n",
       "      <th>Lat</th>\n",
       "      <th>Lon</th>\n",
       "      <th>Base</th>\n",
       "      <th>DoW</th>\n",
       "    </tr>\n",
       "    <tr>\n",
       "      <th>Date/Time</th>\n",
       "      <th></th>\n",
       "      <th></th>\n",
       "      <th></th>\n",
       "      <th></th>\n",
       "    </tr>\n",
       "  </thead>\n",
       "  <tbody>\n",
       "    <tr>\n",
       "      <th>2014-04-07 00:31:00</th>\n",
       "      <td>40.7205</td>\n",
       "      <td>-73.9939</td>\n",
       "      <td>B02512</td>\n",
       "      <td>Monday</td>\n",
       "    </tr>\n",
       "    <tr>\n",
       "      <th>2014-04-07 00:37:00</th>\n",
       "      <td>40.7407</td>\n",
       "      <td>-74.0077</td>\n",
       "      <td>B02512</td>\n",
       "      <td>Monday</td>\n",
       "    </tr>\n",
       "    <tr>\n",
       "      <th>2014-04-07 00:50:00</th>\n",
       "      <td>40.7591</td>\n",
       "      <td>-73.9892</td>\n",
       "      <td>B02512</td>\n",
       "      <td>Monday</td>\n",
       "    </tr>\n",
       "    <tr>\n",
       "      <th>2014-04-07 00:58:00</th>\n",
       "      <td>40.7419</td>\n",
       "      <td>-74.0034</td>\n",
       "      <td>B02512</td>\n",
       "      <td>Monday</td>\n",
       "    </tr>\n",
       "    <tr>\n",
       "      <th>2014-04-07 01:27:00</th>\n",
       "      <td>40.7419</td>\n",
       "      <td>-74.0034</td>\n",
       "      <td>B02512</td>\n",
       "      <td>Monday</td>\n",
       "    </tr>\n",
       "  </tbody>\n",
       "</table>\n",
       "</div>"
      ],
      "text/plain": [
       "                         Lat      Lon    Base     DoW\n",
       "Date/Time                                            \n",
       "2014-04-07 00:31:00  40.7205 -73.9939  B02512  Monday\n",
       "2014-04-07 00:37:00  40.7407 -74.0077  B02512  Monday\n",
       "2014-04-07 00:50:00  40.7591 -73.9892  B02512  Monday\n",
       "2014-04-07 00:58:00  40.7419 -74.0034  B02512  Monday\n",
       "2014-04-07 01:27:00  40.7419 -74.0034  B02512  Monday"
      ]
     },
     "execution_count": 84,
     "metadata": {},
     "output_type": "execute_result"
    }
   ],
   "source": [
    "mon[:'2014-04-07']\n",
    "mon = mon[:20]\n",
    "mon.head()"
   ]
  },
  {
   "cell_type": "code",
   "execution_count": 85,
   "metadata": {},
   "outputs": [],
   "source": [
    "m_mon = folium.Map(location=[40.7690, -73.9549], zoom_start=10)\n",
    "for (index, row) in mon.iterrows():\n",
    "    folium.Marker(location=[row.loc['Lat'], row.loc['Lon']],popup=row.loc['DoW'],\n",
    "                   icon=folium.Icon(color='green', icon='cab', prefix='fa')).add_to(m_mon)\n",
    "    \n",
    "    \n",
    "    \n",
    "measure_control = plugins.MeasureControl(position='topleft', primary_length_unit='meters')\n",
    "m_mon.add_child(measure_control)"
   ]
  },
  {
   "cell_type": "code",
   "execution_count": 86,
   "metadata": {},
   "outputs": [
    {
     "data": {
      "text/html": [
       "<div style=\"width:100%;\"><div style=\"position:relative;width:100%;height:0;padding-bottom:60%;\"><span style=\"color:#565656\">Make this Notebook Trusted to load map: File -> Trust Notebook</span><iframe src=\"about:blank\" style=\"position:absolute;width:100%;height:100%;left:0;top:0;border:none !important;\" data-html=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 onload=\"this.contentDocument.open();this.contentDocument.write(atob(this.getAttribute('data-html')));this.contentDocument.close();\" allowfullscreen webkitallowfullscreen mozallowfullscreen></iframe></div></div>"
      ],
      "text/plain": [
       "<folium.folium.Map at 0x199eb88b2c8>"
      ]
     },
     "execution_count": 86,
     "metadata": {},
     "output_type": "execute_result"
    }
   ],
   "source": [
    "m_mon"
   ]
  },
  {
   "cell_type": "markdown",
   "metadata": {},
   "source": [
    "## Tuesday data"
   ]
  },
  {
   "cell_type": "code",
   "execution_count": 87,
   "metadata": {},
   "outputs": [
    {
     "data": {
      "text/html": [
       "<div>\n",
       "<style scoped>\n",
       "    .dataframe tbody tr th:only-of-type {\n",
       "        vertical-align: middle;\n",
       "    }\n",
       "\n",
       "    .dataframe tbody tr th {\n",
       "        vertical-align: top;\n",
       "    }\n",
       "\n",
       "    .dataframe thead th {\n",
       "        text-align: right;\n",
       "    }\n",
       "</style>\n",
       "<table border=\"1\" class=\"dataframe\">\n",
       "  <thead>\n",
       "    <tr style=\"text-align: right;\">\n",
       "      <th></th>\n",
       "      <th>Lat</th>\n",
       "      <th>Lon</th>\n",
       "      <th>Base</th>\n",
       "      <th>DoW</th>\n",
       "    </tr>\n",
       "    <tr>\n",
       "      <th>Date/Time</th>\n",
       "      <th></th>\n",
       "      <th></th>\n",
       "      <th></th>\n",
       "      <th></th>\n",
       "    </tr>\n",
       "  </thead>\n",
       "  <tbody>\n",
       "    <tr>\n",
       "      <th>2014-04-01 00:11:00</th>\n",
       "      <td>40.7690</td>\n",
       "      <td>-73.9549</td>\n",
       "      <td>B02512</td>\n",
       "      <td>Tuesday</td>\n",
       "    </tr>\n",
       "    <tr>\n",
       "      <th>2014-04-01 00:17:00</th>\n",
       "      <td>40.7267</td>\n",
       "      <td>-74.0345</td>\n",
       "      <td>B02512</td>\n",
       "      <td>Tuesday</td>\n",
       "    </tr>\n",
       "    <tr>\n",
       "      <th>2014-04-01 00:21:00</th>\n",
       "      <td>40.7316</td>\n",
       "      <td>-73.9873</td>\n",
       "      <td>B02512</td>\n",
       "      <td>Tuesday</td>\n",
       "    </tr>\n",
       "    <tr>\n",
       "      <th>2014-04-01 00:28:00</th>\n",
       "      <td>40.7588</td>\n",
       "      <td>-73.9776</td>\n",
       "      <td>B02512</td>\n",
       "      <td>Tuesday</td>\n",
       "    </tr>\n",
       "    <tr>\n",
       "      <th>2014-04-01 00:33:00</th>\n",
       "      <td>40.7594</td>\n",
       "      <td>-73.9722</td>\n",
       "      <td>B02512</td>\n",
       "      <td>Tuesday</td>\n",
       "    </tr>\n",
       "  </tbody>\n",
       "</table>\n",
       "</div>"
      ],
      "text/plain": [
       "                         Lat      Lon    Base      DoW\n",
       "Date/Time                                             \n",
       "2014-04-01 00:11:00  40.7690 -73.9549  B02512  Tuesday\n",
       "2014-04-01 00:17:00  40.7267 -74.0345  B02512  Tuesday\n",
       "2014-04-01 00:21:00  40.7316 -73.9873  B02512  Tuesday\n",
       "2014-04-01 00:28:00  40.7588 -73.9776  B02512  Tuesday\n",
       "2014-04-01 00:33:00  40.7594 -73.9722  B02512  Tuesday"
      ]
     },
     "execution_count": 87,
     "metadata": {},
     "output_type": "execute_result"
    }
   ],
   "source": [
    "filter_tuesday = data['DoW'] == 'Tuesday'\n",
    "tue=data.loc[filter_tuesday]\n",
    "\n",
    "tue[:'2014-04-07']\n",
    "tue = tue[:20]\n",
    "tue.head()"
   ]
  },
  {
   "cell_type": "code",
   "execution_count": 88,
   "metadata": {},
   "outputs": [],
   "source": [
    "m_tue = folium.Map(location=[40.7690, -73.9549], zoom_start=10)\n",
    "for (index, row) in tue.iterrows():\n",
    "    folium.Marker(location=[row.loc['Lat'], row.loc['Lon']],popup=row.loc['DoW'],\n",
    "                   icon=folium.Icon(color='green', icon='cab', prefix='fa')).add_to(m_tue)\n",
    "    \n",
    "    \n",
    "    \n",
    "measure_control = plugins.MeasureControl(position='topleft', primary_length_unit='meters')\n",
    "m_tue.add_child(measure_control)"
   ]
  },
  {
   "cell_type": "markdown",
   "metadata": {},
   "source": [
    "## Wednesday data"
   ]
  },
  {
   "cell_type": "code",
   "execution_count": 89,
   "metadata": {},
   "outputs": [
    {
     "data": {
      "text/html": [
       "<div>\n",
       "<style scoped>\n",
       "    .dataframe tbody tr th:only-of-type {\n",
       "        vertical-align: middle;\n",
       "    }\n",
       "\n",
       "    .dataframe tbody tr th {\n",
       "        vertical-align: top;\n",
       "    }\n",
       "\n",
       "    .dataframe thead th {\n",
       "        text-align: right;\n",
       "    }\n",
       "</style>\n",
       "<table border=\"1\" class=\"dataframe\">\n",
       "  <thead>\n",
       "    <tr style=\"text-align: right;\">\n",
       "      <th></th>\n",
       "      <th>Lat</th>\n",
       "      <th>Lon</th>\n",
       "      <th>Base</th>\n",
       "      <th>DoW</th>\n",
       "    </tr>\n",
       "    <tr>\n",
       "      <th>Date/Time</th>\n",
       "      <th></th>\n",
       "      <th></th>\n",
       "      <th></th>\n",
       "      <th></th>\n",
       "    </tr>\n",
       "  </thead>\n",
       "  <tbody>\n",
       "    <tr>\n",
       "      <th>2014-04-02 00:00:00</th>\n",
       "      <td>40.7458</td>\n",
       "      <td>-73.9843</td>\n",
       "      <td>B02512</td>\n",
       "      <td>Wednesday</td>\n",
       "    </tr>\n",
       "    <tr>\n",
       "      <th>2014-04-02 00:05:00</th>\n",
       "      <td>40.7285</td>\n",
       "      <td>-74.0467</td>\n",
       "      <td>B02512</td>\n",
       "      <td>Wednesday</td>\n",
       "    </tr>\n",
       "    <tr>\n",
       "      <th>2014-04-02 00:07:00</th>\n",
       "      <td>40.7732</td>\n",
       "      <td>-73.9546</td>\n",
       "      <td>B02512</td>\n",
       "      <td>Wednesday</td>\n",
       "    </tr>\n",
       "    <tr>\n",
       "      <th>2014-04-02 00:11:00</th>\n",
       "      <td>40.6550</td>\n",
       "      <td>-73.9786</td>\n",
       "      <td>B02512</td>\n",
       "      <td>Wednesday</td>\n",
       "    </tr>\n",
       "    <tr>\n",
       "      <th>2014-04-02 00:21:00</th>\n",
       "      <td>40.7405</td>\n",
       "      <td>-74.0040</td>\n",
       "      <td>B02512</td>\n",
       "      <td>Wednesday</td>\n",
       "    </tr>\n",
       "  </tbody>\n",
       "</table>\n",
       "</div>"
      ],
      "text/plain": [
       "                         Lat      Lon    Base        DoW\n",
       "Date/Time                                               \n",
       "2014-04-02 00:00:00  40.7458 -73.9843  B02512  Wednesday\n",
       "2014-04-02 00:05:00  40.7285 -74.0467  B02512  Wednesday\n",
       "2014-04-02 00:07:00  40.7732 -73.9546  B02512  Wednesday\n",
       "2014-04-02 00:11:00  40.6550 -73.9786  B02512  Wednesday\n",
       "2014-04-02 00:21:00  40.7405 -74.0040  B02512  Wednesday"
      ]
     },
     "execution_count": 89,
     "metadata": {},
     "output_type": "execute_result"
    }
   ],
   "source": [
    "filter_wed = data['DoW'] == 'Wednesday'\n",
    "wed=data.loc[filter_wed]\n",
    "\n",
    "wed[:'2014-04-07']\n",
    "wed = wed[:20]\n",
    "wed.head()"
   ]
  },
  {
   "cell_type": "code",
   "execution_count": 90,
   "metadata": {},
   "outputs": [],
   "source": [
    "m_wed = folium.Map(location=[40.7690, -73.9549], zoom_start=10)\n",
    "for (index, row) in wed.iterrows():\n",
    "    folium.Marker(location=[row.loc['Lat'], row.loc['Lon']],popup=row.loc['DoW'],\n",
    "                   icon=folium.Icon(color='green', icon='cab', prefix='fa')).add_to(m_wed)\n",
    "    \n",
    "    \n",
    "measure_control = plugins.MeasureControl(position='topleft', primary_length_unit='meters')\n",
    "m_wed.add_child(measure_control)"
   ]
  },
  {
   "cell_type": "markdown",
   "metadata": {},
   "source": [
    "## Thursday data"
   ]
  },
  {
   "cell_type": "code",
   "execution_count": 91,
   "metadata": {},
   "outputs": [
    {
     "data": {
      "text/html": [
       "<div>\n",
       "<style scoped>\n",
       "    .dataframe tbody tr th:only-of-type {\n",
       "        vertical-align: middle;\n",
       "    }\n",
       "\n",
       "    .dataframe tbody tr th {\n",
       "        vertical-align: top;\n",
       "    }\n",
       "\n",
       "    .dataframe thead th {\n",
       "        text-align: right;\n",
       "    }\n",
       "</style>\n",
       "<table border=\"1\" class=\"dataframe\">\n",
       "  <thead>\n",
       "    <tr style=\"text-align: right;\">\n",
       "      <th></th>\n",
       "      <th>Lat</th>\n",
       "      <th>Lon</th>\n",
       "      <th>Base</th>\n",
       "      <th>DoW</th>\n",
       "    </tr>\n",
       "    <tr>\n",
       "      <th>Date/Time</th>\n",
       "      <th></th>\n",
       "      <th></th>\n",
       "      <th></th>\n",
       "      <th></th>\n",
       "    </tr>\n",
       "  </thead>\n",
       "  <tbody>\n",
       "    <tr>\n",
       "      <th>2014-04-03 00:00:00</th>\n",
       "      <td>40.7422</td>\n",
       "      <td>-74.0062</td>\n",
       "      <td>B02512</td>\n",
       "      <td>Thursday</td>\n",
       "    </tr>\n",
       "    <tr>\n",
       "      <th>2014-04-03 00:02:00</th>\n",
       "      <td>40.7239</td>\n",
       "      <td>-74.0034</td>\n",
       "      <td>B02512</td>\n",
       "      <td>Thursday</td>\n",
       "    </tr>\n",
       "    <tr>\n",
       "      <th>2014-04-03 00:02:00</th>\n",
       "      <td>40.7239</td>\n",
       "      <td>-74.0034</td>\n",
       "      <td>B02512</td>\n",
       "      <td>Thursday</td>\n",
       "    </tr>\n",
       "    <tr>\n",
       "      <th>2014-04-03 00:02:00</th>\n",
       "      <td>40.7104</td>\n",
       "      <td>-74.0118</td>\n",
       "      <td>B02512</td>\n",
       "      <td>Thursday</td>\n",
       "    </tr>\n",
       "    <tr>\n",
       "      <th>2014-04-03 00:10:00</th>\n",
       "      <td>40.7221</td>\n",
       "      <td>-73.9837</td>\n",
       "      <td>B02512</td>\n",
       "      <td>Thursday</td>\n",
       "    </tr>\n",
       "  </tbody>\n",
       "</table>\n",
       "</div>"
      ],
      "text/plain": [
       "                         Lat      Lon    Base       DoW\n",
       "Date/Time                                              \n",
       "2014-04-03 00:00:00  40.7422 -74.0062  B02512  Thursday\n",
       "2014-04-03 00:02:00  40.7239 -74.0034  B02512  Thursday\n",
       "2014-04-03 00:02:00  40.7239 -74.0034  B02512  Thursday\n",
       "2014-04-03 00:02:00  40.7104 -74.0118  B02512  Thursday\n",
       "2014-04-03 00:10:00  40.7221 -73.9837  B02512  Thursday"
      ]
     },
     "execution_count": 91,
     "metadata": {},
     "output_type": "execute_result"
    }
   ],
   "source": [
    "filter_thu = data['DoW'] == 'Thursday'\n",
    "thu=data.loc[filter_thu]\n",
    "\n",
    "thu[:'2014-04-07']\n",
    "thu = thu[:20]\n",
    "thu.head()"
   ]
  },
  {
   "cell_type": "code",
   "execution_count": 92,
   "metadata": {},
   "outputs": [],
   "source": [
    "m_thu = folium.Map(location=[40.7690, -73.9549], zoom_start=10)\n",
    "for (index, row) in thu.iterrows():\n",
    "    folium.Marker(location=[row.loc['Lat'], row.loc['Lon']],popup=row.loc['DoW'],\n",
    "                   icon=folium.Icon(color='green', icon='cab', prefix='fa')).add_to(m_thu)\n",
    "    \n",
    "\n",
    "measure_control = plugins.MeasureControl(position='topleft', primary_length_unit='meters')\n",
    "m_thu.add_child(measure_control)"
   ]
  },
  {
   "cell_type": "markdown",
   "metadata": {},
   "source": [
    "## Friday data"
   ]
  },
  {
   "cell_type": "code",
   "execution_count": 93,
   "metadata": {},
   "outputs": [
    {
     "data": {
      "text/html": [
       "<div>\n",
       "<style scoped>\n",
       "    .dataframe tbody tr th:only-of-type {\n",
       "        vertical-align: middle;\n",
       "    }\n",
       "\n",
       "    .dataframe tbody tr th {\n",
       "        vertical-align: top;\n",
       "    }\n",
       "\n",
       "    .dataframe thead th {\n",
       "        text-align: right;\n",
       "    }\n",
       "</style>\n",
       "<table border=\"1\" class=\"dataframe\">\n",
       "  <thead>\n",
       "    <tr style=\"text-align: right;\">\n",
       "      <th></th>\n",
       "      <th>Lat</th>\n",
       "      <th>Lon</th>\n",
       "      <th>Base</th>\n",
       "      <th>DoW</th>\n",
       "    </tr>\n",
       "    <tr>\n",
       "      <th>Date/Time</th>\n",
       "      <th></th>\n",
       "      <th></th>\n",
       "      <th></th>\n",
       "      <th></th>\n",
       "    </tr>\n",
       "  </thead>\n",
       "  <tbody>\n",
       "    <tr>\n",
       "      <th>2014-04-04 00:03:00</th>\n",
       "      <td>40.7528</td>\n",
       "      <td>-73.9858</td>\n",
       "      <td>B02512</td>\n",
       "      <td>Friday</td>\n",
       "    </tr>\n",
       "    <tr>\n",
       "      <th>2014-04-04 00:05:00</th>\n",
       "      <td>40.7263</td>\n",
       "      <td>-74.0018</td>\n",
       "      <td>B02512</td>\n",
       "      <td>Friday</td>\n",
       "    </tr>\n",
       "    <tr>\n",
       "      <th>2014-04-04 00:12:00</th>\n",
       "      <td>40.7263</td>\n",
       "      <td>-73.9917</td>\n",
       "      <td>B02512</td>\n",
       "      <td>Friday</td>\n",
       "    </tr>\n",
       "    <tr>\n",
       "      <th>2014-04-04 00:12:00</th>\n",
       "      <td>40.7813</td>\n",
       "      <td>-73.9516</td>\n",
       "      <td>B02512</td>\n",
       "      <td>Friday</td>\n",
       "    </tr>\n",
       "    <tr>\n",
       "      <th>2014-04-04 00:14:00</th>\n",
       "      <td>40.7170</td>\n",
       "      <td>-73.9987</td>\n",
       "      <td>B02512</td>\n",
       "      <td>Friday</td>\n",
       "    </tr>\n",
       "  </tbody>\n",
       "</table>\n",
       "</div>"
      ],
      "text/plain": [
       "                         Lat      Lon    Base     DoW\n",
       "Date/Time                                            \n",
       "2014-04-04 00:03:00  40.7528 -73.9858  B02512  Friday\n",
       "2014-04-04 00:05:00  40.7263 -74.0018  B02512  Friday\n",
       "2014-04-04 00:12:00  40.7263 -73.9917  B02512  Friday\n",
       "2014-04-04 00:12:00  40.7813 -73.9516  B02512  Friday\n",
       "2014-04-04 00:14:00  40.7170 -73.9987  B02512  Friday"
      ]
     },
     "execution_count": 93,
     "metadata": {},
     "output_type": "execute_result"
    }
   ],
   "source": [
    "filter_fri = data['DoW'] == 'Friday'\n",
    "fri=data.loc[filter_fri]\n",
    "\n",
    "fri[:'2014-04-07']\n",
    "fri = fri[:20]\n",
    "fri.head()"
   ]
  },
  {
   "cell_type": "code",
   "execution_count": 94,
   "metadata": {},
   "outputs": [],
   "source": [
    "m_fri = folium.Map(location=[40.7690, -73.9549], zoom_start=10)\n",
    "for (index, row) in fri.iterrows():\n",
    "    folium.Marker(location=[row.loc['Lat'], row.loc['Lon']],popup=row.loc['DoW'],\n",
    "                   icon=folium.Icon(color='green', icon='cab', prefix='fa')).add_to(m_fri)\n",
    "    \n",
    "\n",
    "measure_control = plugins.MeasureControl(position='topleft', primary_length_unit='meters')\n",
    "m_fri.add_child(measure_control)"
   ]
  },
  {
   "cell_type": "markdown",
   "metadata": {},
   "source": [
    "## Saturday data"
   ]
  },
  {
   "cell_type": "code",
   "execution_count": 95,
   "metadata": {},
   "outputs": [
    {
     "data": {
      "text/html": [
       "<div>\n",
       "<style scoped>\n",
       "    .dataframe tbody tr th:only-of-type {\n",
       "        vertical-align: middle;\n",
       "    }\n",
       "\n",
       "    .dataframe tbody tr th {\n",
       "        vertical-align: top;\n",
       "    }\n",
       "\n",
       "    .dataframe thead th {\n",
       "        text-align: right;\n",
       "    }\n",
       "</style>\n",
       "<table border=\"1\" class=\"dataframe\">\n",
       "  <thead>\n",
       "    <tr style=\"text-align: right;\">\n",
       "      <th></th>\n",
       "      <th>Lat</th>\n",
       "      <th>Lon</th>\n",
       "      <th>Base</th>\n",
       "      <th>DoW</th>\n",
       "    </tr>\n",
       "    <tr>\n",
       "      <th>Date/Time</th>\n",
       "      <th></th>\n",
       "      <th></th>\n",
       "      <th></th>\n",
       "      <th></th>\n",
       "    </tr>\n",
       "  </thead>\n",
       "  <tbody>\n",
       "    <tr>\n",
       "      <th>2014-04-05 00:00:00</th>\n",
       "      <td>40.7690</td>\n",
       "      <td>-73.9825</td>\n",
       "      <td>B02512</td>\n",
       "      <td>Saturday</td>\n",
       "    </tr>\n",
       "    <tr>\n",
       "      <th>2014-04-05 00:00:00</th>\n",
       "      <td>40.7594</td>\n",
       "      <td>-73.9641</td>\n",
       "      <td>B02512</td>\n",
       "      <td>Saturday</td>\n",
       "    </tr>\n",
       "    <tr>\n",
       "      <th>2014-04-05 00:01:00</th>\n",
       "      <td>40.7113</td>\n",
       "      <td>-74.0173</td>\n",
       "      <td>B02512</td>\n",
       "      <td>Saturday</td>\n",
       "    </tr>\n",
       "    <tr>\n",
       "      <th>2014-04-05 00:02:00</th>\n",
       "      <td>40.8060</td>\n",
       "      <td>-73.9652</td>\n",
       "      <td>B02512</td>\n",
       "      <td>Saturday</td>\n",
       "    </tr>\n",
       "    <tr>\n",
       "      <th>2014-04-05 00:04:00</th>\n",
       "      <td>40.7211</td>\n",
       "      <td>-74.0042</td>\n",
       "      <td>B02512</td>\n",
       "      <td>Saturday</td>\n",
       "    </tr>\n",
       "  </tbody>\n",
       "</table>\n",
       "</div>"
      ],
      "text/plain": [
       "                         Lat      Lon    Base       DoW\n",
       "Date/Time                                              \n",
       "2014-04-05 00:00:00  40.7690 -73.9825  B02512  Saturday\n",
       "2014-04-05 00:00:00  40.7594 -73.9641  B02512  Saturday\n",
       "2014-04-05 00:01:00  40.7113 -74.0173  B02512  Saturday\n",
       "2014-04-05 00:02:00  40.8060 -73.9652  B02512  Saturday\n",
       "2014-04-05 00:04:00  40.7211 -74.0042  B02512  Saturday"
      ]
     },
     "execution_count": 95,
     "metadata": {},
     "output_type": "execute_result"
    }
   ],
   "source": [
    "filter_sat = data['DoW'] == 'Saturday'\n",
    "sat=data.loc[filter_sat]\n",
    "\n",
    "sat[:'2014-04-07']\n",
    "sat = sat[:20]\n",
    "sat.head()"
   ]
  },
  {
   "cell_type": "code",
   "execution_count": 104,
   "metadata": {},
   "outputs": [],
   "source": [
    "m_sat = folium.Map(location=[40.7690, -73.9549], zoom_start=10)\n",
    "for (index, row) in sat.iterrows():\n",
    "    folium.Marker(location=[row.loc['Lat'], row.loc['Lon']],popup=row.loc['DoW'],\n",
    "                   icon=folium.Icon(color='red', icon='cab', prefix='fa')).add_to(m_sat)\n",
    "    \n",
    "    \n",
    "\n",
    "    \n",
    "measure_control = plugins.MeasureControl(position='topleft', primary_length_unit='meters')\n",
    "m_sat.add_child(measure_control)"
   ]
  },
  {
   "cell_type": "code",
   "execution_count": 105,
   "metadata": {},
   "outputs": [
    {
     "data": {
      "text/html": [
       "<div style=\"width:100%;\"><div style=\"position:relative;width:100%;height:0;padding-bottom:60%;\"><span style=\"color:#565656\">Make this Notebook Trusted to load map: File -> Trust Notebook</span><iframe src=\"about:blank\" style=\"position:absolute;width:100%;height:100%;left:0;top:0;border:none !important;\" data-html=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 onload=\"this.contentDocument.open();this.contentDocument.write(atob(this.getAttribute('data-html')));this.contentDocument.close();\" allowfullscreen webkitallowfullscreen mozallowfullscreen></iframe></div></div>"
      ],
      "text/plain": [
       "<folium.folium.Map at 0x199e58c0588>"
      ]
     },
     "execution_count": 105,
     "metadata": {},
     "output_type": "execute_result"
    }
   ],
   "source": [
    "m_sat"
   ]
  },
  {
   "cell_type": "markdown",
   "metadata": {},
   "source": [
    "## Adding all the weekday's data into a single map using ipywidgets"
   ]
  },
  {
   "cell_type": "code",
   "execution_count": 98,
   "metadata": {},
   "outputs": [],
   "source": [
    "import ipywidgets"
   ]
  },
  {
   "cell_type": "code",
   "execution_count": 106,
   "metadata": {},
   "outputs": [
    {
     "data": {
      "application/vnd.jupyter.widget-view+json": {
       "model_id": "08f9d14cf9d14ce49b856b607abaa713",
       "version_major": 2,
       "version_minor": 0
      },
      "text/plain": [
       "interactive(children=(Select(description='weekday', options=('Monday', 'Tuesday', 'Wednesday', 'Thursday', 'Fr…"
      ]
     },
     "metadata": {},
     "output_type": "display_data"
    },
    {
     "data": {
      "text/plain": [
       "<function __main__.select(weekday)>"
      ]
     },
     "execution_count": 106,
     "metadata": {},
     "output_type": "execute_result"
    }
   ],
   "source": [
    "select_widget=ipywidgets.Select(\n",
    "    options=['Monday','Tuesday', 'Wednesday','Thursday','Friday','Saturday','Sunday'])\n",
    "\n",
    "# widget function\n",
    "def select(weekday):\n",
    "    if weekday == 'Monday':\n",
    "        display(m_mon)\n",
    "    if weekday == 'Tuesday':\n",
    "        display(m_tue)\n",
    "    if weekday == 'Wednesday':\n",
    "        display(m_wed)\n",
    "    if weekday == 'Thursday':\n",
    "        display(m_thu)\n",
    "    if weekday == 'Friday':\n",
    "        display(m_fri)\n",
    "    if weekday == 'Saturday':\n",
    "        display(m_sat)\n",
    "    if weekday == 'Sunday':\n",
    "        display(m_sun)\n",
    "        \n",
    "# interaction between widgets and function    \n",
    "ipywidgets.interact(select, weekday=select_widget)"
   ]
  }
 ],
 "metadata": {
  "kernelspec": {
   "display_name": "Python 3",
   "language": "python",
   "name": "python3"
  },
  "language_info": {
   "codemirror_mode": {
    "name": "ipython",
    "version": 3
   },
   "file_extension": ".py",
   "mimetype": "text/x-python",
   "name": "python",
   "nbconvert_exporter": "python",
   "pygments_lexer": "ipython3",
   "version": "3.7.6"
  }
 },
 "nbformat": 4,
 "nbformat_minor": 4
}
